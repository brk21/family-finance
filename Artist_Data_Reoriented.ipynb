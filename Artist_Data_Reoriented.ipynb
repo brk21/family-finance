{
 "cells": [
  {
   "cell_type": "code",
   "execution_count": 1,
   "metadata": {},
   "outputs": [],
   "source": [
    "import pandas as pd"
   ]
  },
  {
   "cell_type": "code",
   "execution_count": 18,
   "metadata": {},
   "outputs": [],
   "source": [
    "df = pd.read_csv('/Users/brosskatz/Dropbox/CorrDyn/Forever Songs/ben_hayslip_foreign.csv')"
   ]
  },
  {
   "cell_type": "code",
   "execution_count": 19,
   "metadata": {},
   "outputs": [
    {
     "data": {
      "text/plain": [
       "Index(['Date', 'Small Town Boy Like Me', 'Star of The Show', 'Honey Bee',\n",
       "       'Huntin Fishin And Lovin Everyday', 'Mind Reader', 'Ill Name The Dogs',\n",
       "       'When She Says Baby', 'It Goes Like This',\n",
       "       'Dont Want This Night To End', 'I Lived It', 'The Only Way I Know',\n",
       "       'Gimmie That Girl', 'Kinda Dont Care', 'Anywhere With You',\n",
       "       'Way I Talk', 'Farmers Daughter', 'Bring It On Over',\n",
       "       'Drink A Little Beer', 'Tried to Tell Ya'],\n",
       "      dtype='object')"
      ]
     },
     "execution_count": 19,
     "metadata": {},
     "output_type": "execute_result"
    }
   ],
   "source": [
    "df.columns"
   ]
  },
  {
   "cell_type": "code",
   "execution_count": 17,
   "metadata": {},
   "outputs": [],
   "source": [
    "df = df.set_index('Date')"
   ]
  },
  {
   "cell_type": "code",
   "execution_count": 21,
   "metadata": {},
   "outputs": [],
   "source": [
    "df = df.reset_index()\n",
    "df_final = pd.melt(df, id_vars='Date', value_vars=['Small Town Boy Like Me', 'Star of The Show', 'Honey Bee',\n",
    "       'Huntin Fishin And Lovin Everyday', 'Mind Reader', 'Ill Name The Dogs',\n",
    "       'When She Says Baby', 'It Goes Like This',\n",
    "       'Dont Want This Night To End', 'I Lived It', 'The Only Way I Know',\n",
    "       'Gimmie That Girl', 'Kinda Dont Care', 'Anywhere With You',\n",
    "       'Way I Talk', 'Farmers Daughter', 'Bring It On Over',\n",
    "       'Drink A Little Beer', 'Tried to Tell Ya'])"
   ]
  },
  {
   "cell_type": "code",
   "execution_count": 24,
   "metadata": {},
   "outputs": [],
   "source": [
    "df_final = df_final.dropna()"
   ]
  },
  {
   "cell_type": "code",
   "execution_count": 28,
   "metadata": {},
   "outputs": [],
   "source": [
    "df.to_csv('/Users/brosskatz/Dropbox/CorrDyn/Forever Songs/ben_hayslip_foreign.csv',index=False)"
   ]
  },
  {
   "cell_type": "code",
   "execution_count": 27,
   "metadata": {},
   "outputs": [],
   "source": [
    "df_final.to_csv('/Users/brosskatz/Dropbox/CorrDyn/Forever Songs/ben_hayslip_foreign_final.csv',index=False)"
   ]
  }
 ],
 "metadata": {
  "kernelspec": {
   "display_name": "Python 3",
   "language": "python",
   "name": "python3"
  },
  "language_info": {
   "codemirror_mode": {
    "name": "ipython",
    "version": 3
   },
   "file_extension": ".py",
   "mimetype": "text/x-python",
   "name": "python",
   "nbconvert_exporter": "python",
   "pygments_lexer": "ipython3",
   "version": "3.8.3"
  }
 },
 "nbformat": 4,
 "nbformat_minor": 4
}
