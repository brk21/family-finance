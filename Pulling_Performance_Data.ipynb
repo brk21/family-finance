{
 "cells": [
  {
   "cell_type": "code",
   "execution_count": 28,
   "metadata": {
    "collapsed": true
   },
   "outputs": [],
   "source": [
    "import quandl\n",
    "import pandas as pd\n",
    "import pandas_datareader.data as web\n",
    "import datetime\n",
    "from pandas_datareader.data import Options\n",
    "import google\n",
    "from sqlalchemy import create_engine\n",
    "import pandas_datareader.data as web\n",
    "from google.cloud import storage, bigquery\n",
    "from tiingo import TiingoClient\n",
    "from configparser import ConfigParser\n",
    "import os\n",
    "\n",
    "dir_path = os.getcwd()\n",
    "\n",
    "config = ConfigParser()\n",
    "config_file = dir_path+'/config.ini'\n",
    "config.read(config_file)\n",
    "\n",
    "tiingo_api_key=config['tiingo']['api_key']\n",
    "quandl_api_key = config['quandl']['api_key']\n",
    "\n",
    "quandl.ApiConfig.api_key = quandl_api_key"
   ]
  },
  {
   "cell_type": "code",
   "execution_count": 40,
   "metadata": {
    "collapsed": true
   },
   "outputs": [],
   "source": [
    "client = TiingoClient({'api_key': tiingo_api_key})"
   ]
  },
  {
   "cell_type": "code",
   "execution_count": 33,
   "metadata": {
    "collapsed": true
   },
   "outputs": [],
   "source": [
    "mfs_tickers = ['MFBCX',\n",
    "'MRGCX',\n",
    "'MFECX',\n",
    "'MWECX',\n",
    "'MFWCX',\n",
    "'MIDCX',\n",
    "'MITCX',\n",
    "'OTCCX',\n",
    "'MNDCX',\n",
    "'MFRCX',\n",
    "'MTRCX',\n",
    "'MMUCX',\n",
    "'MEICX']"
   ]
  },
  {
   "cell_type": "code",
   "execution_count": 42,
   "metadata": {
    "collapsed": true
   },
   "outputs": [],
   "source": [
    "emi_tickers = ['EAASX',\n",
    "'LALDX',\n",
    "'MSFAX',\n",
    "'NMSAX',\n",
    "'PARWX',\n",
    "'REREX',\n",
    "'RIDEX',\n",
    "'RMFEX',\n",
    "'RSLEX',\n",
    "'RWMEX',\n",
    "'SMGIX',\n",
    "'SPIAX',\n",
    "'VETAX',]"
   ]
  },
  {
   "cell_type": "code",
   "execution_count": 36,
   "metadata": {
    "collapsed": true
   },
   "outputs": [],
   "source": [
    "mutual_funds_df = client.get_dataframe(mfs_tickers,\n",
    "                  frequency='daily',\n",
    "                  metric_name='close',\n",
    "                  startDate='2017-01-01',\n",
    "                  endDate='2018-05-31')"
   ]
  },
  {
   "cell_type": "code",
   "execution_count": 43,
   "metadata": {
    "collapsed": true
   },
   "outputs": [],
   "source": [
    "emi_funds_df = client.get_dataframe(emi_tickers,\n",
    "                  frequency='daily',\n",
    "                  metric_name='close',\n",
    "                  startDate='2017-01-01',\n",
    "                  endDate='2018-05-31')"
   ]
  },
  {
   "cell_type": "code",
   "execution_count": 47,
   "metadata": {
    "collapsed": true
   },
   "outputs": [],
   "source": [
    "mutual_funds_df.to_csv('/Users/brosskatz/Documents/lahm_mutual_funds.csv')"
   ]
  },
  {
   "cell_type": "code",
   "execution_count": 48,
   "metadata": {
    "collapsed": true
   },
   "outputs": [],
   "source": [
    "emi_funds_df.to_csv('/Users/brosskatz/Documents/emi_mutual_funds.csv')"
   ]
  },
  {
   "cell_type": "code",
   "execution_count": 25,
   "metadata": {
    "collapsed": true
   },
   "outputs": [],
   "source": [
    "# df"
   ]
  },
  {
   "cell_type": "code",
   "execution_count": 49,
   "metadata": {},
   "outputs": [],
   "source": [
    "# data = web.DataReader('MFBCX', 'google','2005-01-01','2018-10-21')"
   ]
  }
 ],
 "metadata": {
  "kernelspec": {
   "display_name": "Python (requests36)",
   "language": "python",
   "name": "requests36"
  },
  "language_info": {
   "codemirror_mode": {
    "name": "ipython",
    "version": 3
   },
   "file_extension": ".py",
   "mimetype": "text/x-python",
   "name": "python",
   "nbconvert_exporter": "python",
   "pygments_lexer": "ipython3",
   "version": "3.6.4"
  }
 },
 "nbformat": 4,
 "nbformat_minor": 2
}
